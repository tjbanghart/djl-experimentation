{
 "cells": [
  {
   "cell_type": "code",
   "execution_count": 29,
   "id": "67daad2f",
   "metadata": {},
   "outputs": [],
   "source": [
    "%maven junit:junit:4.13.2\n",
    "%load djl_imports\n",
    "\n",
    "import org.junit.*;\n",
    "import static org.junit.Assert.*;"
   ]
  },
  {
   "cell_type": "code",
   "execution_count": 30,
   "id": "fbf54a85",
   "metadata": {},
   "outputs": [],
   "source": [
    "public class MergeSort {\n",
    "    public static void merge(\n",
    "      int[] a, int[] l, int[] r, int left, int right) {\n",
    "\n",
    "        int i = 0, j = 0, k = 0;\n",
    "        while (i < left && j < right) {\n",
    "            if (l[i] <= r[j]) {\n",
    "                a[k++] = l[i++];\n",
    "            }\n",
    "            else {\n",
    "                a[k++] = r[j++];\n",
    "            }\n",
    "        }\n",
    "        while (i < left) {\n",
    "            a[k++] = l[i++];\n",
    "        }\n",
    "        while (j < right) {\n",
    "            a[k++] = r[j++];\n",
    "        }\n",
    "    }\n",
    "\n",
    "    public static void mergeSort(int[] a, int n) {\n",
    "        if (n < 2) {\n",
    "            return;\n",
    "        }\n",
    "        int mid = n / 2;\n",
    "        int[] l = new int[mid];\n",
    "        int[] r = new int[n - mid];\n",
    "\n",
    "        for (int i = 0; i < mid; i++) {\n",
    "            l[i] = a[i];\n",
    "        }\n",
    "        for (int i = mid; i < n; i++) {\n",
    "            r[i - mid] = a[i];\n",
    "        }\n",
    "        mergeSort(l, mid);\n",
    "        mergeSort(r, n - mid);\n",
    "\n",
    "        merge(a, l, r, mid, n - mid);\n",
    "    }\n",
    "\n",
    "}\n"
   ]
  },
  {
   "cell_type": "code",
   "execution_count": 36,
   "id": "3038bbd3",
   "metadata": {},
   "outputs": [],
   "source": [
    "public void positiveTest() {\n",
    "    int[] actual = { 5, 1, 6, 2, 3, 4 };\n",
    "    int[] expected = { 1, 2, 3, 4, 5, 6 };\n",
    "    MergeSort.mergeSort(actual, actual.length);\n",
    "    assertArrayEquals(expected, actual);\n",
    "}"
   ]
  },
  {
   "cell_type": "code",
   "execution_count": 37,
   "id": "1e8890ec",
   "metadata": {},
   "outputs": [],
   "source": [
    "positiveTest()"
   ]
  },
  {
   "cell_type": "code",
   "execution_count": null,
   "id": "6107f6ee",
   "metadata": {},
   "outputs": [],
   "source": []
  }
 ],
 "metadata": {
  "kernelspec": {
   "display_name": "Java",
   "language": "java",
   "name": "java"
  },
  "language_info": {
   "codemirror_mode": "java",
   "file_extension": ".jshell",
   "mimetype": "text/x-java-source",
   "name": "Java",
   "pygments_lexer": "java",
   "version": "11.0.16+8-post-Ubuntu-0ubuntu120.04"
  }
 },
 "nbformat": 4,
 "nbformat_minor": 5
}
