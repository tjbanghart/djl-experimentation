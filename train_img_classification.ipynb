{
 "cells": [
  {
   "cell_type": "code",
   "execution_count": 9,
   "id": "0065896c",
   "metadata": {},
   "outputs": [],
   "source": [
    "// Add the maven dependencies\n",
    "%maven ai.djl:api:0.28.0\n",
    "%maven ai.djl:basicdataset:0.28.0\n",
    "%maven ai.djl:model-zoo:0.28.0\n",
    "%maven ai.djl.mxnet:mxnet-engine:0.28.0\n",
    "%maven org.slf4j:slf4j-simple:1.7.36"
   ]
  },
  {
   "cell_type": "code",
   "execution_count": 23,
   "id": "e2e7a31a",
   "metadata": {},
   "outputs": [],
   "source": [
    "// Import some packages\n",
    "import java.nio.file.*;\n",
    "\n",
    "import ai.djl.*;\n",
    "import ai.djl.basicdataset.cv.classification.Mnist;\n",
    "import ai.djl.ndarray.types.*;\n",
    "import ai.djl.training.*;\n",
    "import ai.djl.training.dataset.*;\n",
    "import ai.djl.training.initializer.*;\n",
    "import ai.djl.training.loss.*;\n",
    "import ai.djl.training.listener.*;\n",
    "import ai.djl.training.evaluator.*;\n",
    "import ai.djl.training.optimizer.*;\n",
    "import ai.djl.training.util.*;\n",
    "import ai.djl.basicmodelzoo.cv.classification.*;\n",
    "import ai.djl.basicmodelzoo.basic.*;\n",
    "import ai.djl.modality.cv.util.NDImageUtils;"
   ]
  },
  {
   "cell_type": "code",
   "execution_count": 14,
   "id": "0383e55c",
   "metadata": {},
   "outputs": [],
   "source": [
    "Application application = Application.CV.IMAGE_CLASSIFICATION;\n",
    "\n",
    "long inputSize = 28*28;\n",
    "long outputSize = 10;"
   ]
  },
  {
   "cell_type": "code",
   "execution_count": 15,
   "id": "006b55d7",
   "metadata": {},
   "outputs": [
    {
     "data": {
      "text/plain": [
       "SequentialBlock {\n",
       "\tbatchFlatten\n",
       "\tLinear\n",
       "\tLambdaBlock\n",
       "\tLinear\n",
       "\tLambdaBlock\n",
       "\tLinear\n",
       "}"
      ]
     },
     "execution_count": 15,
     "metadata": {},
     "output_type": "execute_result"
    }
   ],
   "source": [
    "// The core data type used for working with deep learning is the NDArray. \n",
    "// An NDArray represents a multidimensional, fixed-size homogeneous array. \n",
    "// It has very similar behavior to the Numpy python package with the addition of efficient computing. \n",
    "// We also have a helper class, the NDList which is a list of NDArrays which can have different sizes and data types.\n",
    "\n",
    "// Basically building a basic NN here\n",
    "SequentialBlock block = new SequentialBlock();\n",
    "block.add(Blocks.batchFlattenBlock(inputSize));\n",
    "block.add(Linear.builder().setUnits(128).build());\n",
    "block.add(Activation::relu); // RELU activation\n",
    "block.add(Linear.builder().setUnits(64).build());\n",
    "block.add(Activation::relu);\n",
    "block.add(Linear.builder().setUnits(outputSize).build());\n",
    "\n",
    "block"
   ]
  },
  {
   "cell_type": "code",
   "execution_count": 16,
   "id": "c00d4061",
   "metadata": {},
   "outputs": [
    {
     "name": "stderr",
     "output_type": "stream",
     "text": [
      "[IJava-executor-4] INFO ai.djl.mxnet.jna.LibUtils - Downloading libgfortran.so.3 ...\n",
      "[IJava-executor-4] INFO ai.djl.mxnet.jna.LibUtils - Downloading libgomp.so.1 ...\n",
      "[IJava-executor-4] INFO ai.djl.mxnet.jna.LibUtils - Downloading libquadmath.so.0 ...\n",
      "[IJava-executor-4] INFO ai.djl.mxnet.jna.LibUtils - Downloading libopenblas.so.0 ...\n",
      "[IJava-executor-4] INFO ai.djl.mxnet.jna.LibUtils - Downloading libmxnet.so ...\n"
     ]
    },
    {
     "name": "stdout",
     "output_type": "stream",
     "text": [
      "Downloading: 100% |████████████████████████████████████████|\n"
     ]
    }
   ],
   "source": [
    "// The sampler decides which and how many element from datasets are part of each batch when iterating through it. \n",
    "// We will have it randomly shuffle the elements for the batch and use a batchSize of 32. \n",
    "// The batchSize is usually the largest power of 2 that fits within memory.\n",
    "\n",
    "int batchSize = 32;\n",
    "Mnist mnist = Mnist.builder().setSampling(batchSize, true).build();\n",
    "mnist.prepare(new ProgressBar());"
   ]
  },
  {
   "cell_type": "code",
   "execution_count": 17,
   "id": "bf5d0a04",
   "metadata": {},
   "outputs": [],
   "source": [
    "// Now we have our training set, lets make a model based on the neural net we made earlier\n",
    "Model model = Model.newInstance(\"mlp\");\n",
    "model.setBlock(block);"
   ]
  },
  {
   "cell_type": "code",
   "execution_count": 19,
   "id": "344be38e",
   "metadata": {},
   "outputs": [
    {
     "name": "stderr",
     "output_type": "stream",
     "text": [
      "[IJava-executor-6] INFO ai.djl.training.listener.LoggingTrainingListener - Training on: cpu().\n",
      "[IJava-executor-6] INFO ai.djl.training.listener.LoggingTrainingListener - Load MXNet Engine Version 1.9.0 in 0.039 ms.\n"
     ]
    }
   ],
   "source": [
    "// Training Loop\n",
    "//  - REQUIRED Loss function: A loss function is used to measure how well our model matches the dataset. \n",
    "//     Because the lower value of the function is better, it's called the \"loss\" function. \n",
    "//     The Loss is the only required argument to the model.\n",
    "//  - Evaluator function: An evaluator function is also used to measure how well our model matches the dataset. \n",
    "//     Unlike the loss, they are only there for people to look at and are not used for optimizing the model. \n",
    "//     Since many losses are not as intuitive, adding other evaluators such as Accuracy can help to understand how \n",
    "//     your model is doing. If you know of any useful evaluators, we recommend adding them.\n",
    "//  - Training Listeners: The training listener adds additional functionality to the training process through \n",
    "//    a listener interface. This can include showing training progress, stopping early if training becomes \n",
    "//    undefined, or recording performance metrics. We offer several easy sets of default listeners.\n",
    "\n",
    "\n",
    "DefaultTrainingConfig config = new DefaultTrainingConfig(Loss.softmaxCrossEntropyLoss())\n",
    "    //softmaxCrossEntropyLoss is a standard loss for classification problems\n",
    "    .addEvaluator(new Accuracy()) // Use accuracy so we humans can understand how accurate the model is\n",
    "    .addTrainingListeners(TrainingListener.Defaults.logging());\n",
    "\n",
    "// Now that we have our training configuration, we should create a new trainer for our model\n",
    "Trainer trainer = model.newTrainer(config);"
   ]
  },
  {
   "cell_type": "code",
   "execution_count": 20,
   "id": "61136471",
   "metadata": {},
   "outputs": [
    {
     "name": "stdout",
     "output_type": "stream",
     "text": [
      "Training:    100% |████████████████████████████████████████| \n"
     ]
    },
    {
     "name": "stderr",
     "output_type": "stream",
     "text": [
      "[IJava-executor-7] INFO ai.djl.training.listener.LoggingTrainingListener - Epoch 1 finished.\n"
     ]
    },
    {
     "name": "stdout",
     "output_type": "stream",
     "text": [
      "Training:    100% |████████████████████████████████████████| \n"
     ]
    },
    {
     "name": "stderr",
     "output_type": "stream",
     "text": [
      "[IJava-executor-7] INFO ai.djl.training.listener.LoggingTrainingListener - Epoch 2 finished.\n"
     ]
    }
   ],
   "source": [
    "// The first axis of the input shape is the batch size. This won't impact the parameter initialization, use 1\n",
    "// The second axis of the input shape of the MLP - the number of pixels in the input image.\n",
    "trainer.initialize(new Shape(1, 28 * 28));\n",
    "\n",
    "// Deep learning is typically trained in epochs where each epoch trains the model on each item in the dataset once.\n",
    "int epoch = 2;\n",
    "EasyTrain.fit(trainer, epoch, mnist, null);"
   ]
  },
  {
   "cell_type": "code",
   "execution_count": 21,
   "id": "dd59450f",
   "metadata": {},
   "outputs": [
    {
     "data": {
      "text/plain": [
       "Model (\n",
       "\tName: mlp\n",
       "\tModel location: /home/jupyter/build/mlp\n",
       "\tData Type: float32\n",
       "\tEpoch: 2\n",
       ")"
      ]
     },
     "execution_count": 21,
     "metadata": {},
     "output_type": "execute_result"
    }
   ],
   "source": [
    "// Save the trained model by writing it to disc (config, params, etc...)\n",
    "Path modelDir = Paths.get(\"build/mlp\");\n",
    "Files.createDirectories(modelDir);\n",
    "\n",
    "model.setProperty(\"Epoch\", String.valueOf(epoch));\n",
    "\n",
    "model.save(modelDir, \"mlp\");\n",
    "\n",
    "model"
   ]
  }
 ],
 "metadata": {
  "kernelspec": {
   "display_name": "Java",
   "language": "java",
   "name": "java"
  },
  "language_info": {
   "codemirror_mode": "java",
   "file_extension": ".jshell",
   "mimetype": "text/x-java-source",
   "name": "Java",
   "pygments_lexer": "java",
   "version": "11.0.16+8-post-Ubuntu-0ubuntu120.04"
  }
 },
 "nbformat": 4,
 "nbformat_minor": 5
}
