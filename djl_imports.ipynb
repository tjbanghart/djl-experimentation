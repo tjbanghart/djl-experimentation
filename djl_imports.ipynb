{
 "cells": [
  {
   "cell_type": "code",
   "execution_count": 10,
   "id": "ab61dfd5",
   "metadata": {},
   "outputs": [],
   "source": [
    "%maven ai.djl:basicdataset:0.23.0\n",
    "%maven ai.djl.mxnet:mxnet-engine:0.23.0\n",
    "%maven org.slf4j:slf4j-simple:1.7.36\n",
    "%maven junit:junit:4.13.2\n",
    "%maven org.apache.commons:commons-lang3:3.17.0"
   ]
  },
  {
   "cell_type": "code",
   "execution_count": 8,
   "id": "4515da0a",
   "metadata": {},
   "outputs": [],
   "source": [
    "import ai.djl.*;\n",
    "import ai.djl.engine.*;\n",
    "import ai.djl.inference.*;\n",
    "import ai.djl.modality.*;\n",
    "import ai.djl.modality.cv.*;\n",
    "import ai.djl.modality.cv.Image;\n",
    "import ai.djl.modality.cv.transform.*;\n",
    "import ai.djl.modality.cv.translator.*;\n",
    "import ai.djl.modality.cv.output.*;\n",
    "import ai.djl.modality.cv.util.*;\n",
    "import ai.djl.ndarray.*;\n",
    "import ai.djl.ndarray.index.*;\n",
    "import ai.djl.ndarray.types.*;\n",
    "import ai.djl.ndarray.types.Shape;\n",
    "import ai.djl.nn.*;\n",
    "import ai.djl.nn.convolutional.*;\n",
    "import ai.djl.nn.core.*;\n",
    "import ai.djl.nn.norm.*;\n",
    "import ai.djl.nn.pooling.*;\n",
    "import ai.djl.nn.recurrent.*;\n",
    "import ai.djl.repository.zoo.*;\n",
    "import ai.djl.training.*;\n",
    "import ai.djl.training.evaluator.*;\n",
    "import ai.djl.training.initializer.*;\n",
    "import ai.djl.training.listener.*;\n",
    "import ai.djl.training.loss.*;\n",
    "import ai.djl.training.optimizer.*;\n",
    "import ai.djl.training.tracker.*;\n",
    "import ai.djl.training.util.*;\n",
    "import ai.djl.training.dataset.*;\n",
    "import ai.djl.translate.*;\n",
    "import ai.djl.util.*;\n",
    "import java.io.*;\n",
    "import java.net.*;\n",
    "import java.nio.*;\n",
    "import java.nio.file.*;\n",
    "import java.util.*;\n",
    "import java.util.function.*;\n",
    "import org.junit.*;"
   ]
  },
  {
   "cell_type": "code",
   "execution_count": 9,
   "id": "d744579c",
   "metadata": {},
   "outputs": [],
   "source": [
    "// I hate writing `System.out.println`...\n",
    "static public void print(Object o) {\n",
    "    System.out.println(o);\n",
    "}"
   ]
  }
 ],
 "metadata": {
  "kernelspec": {
   "display_name": "Java",
   "language": "java",
   "name": "java"
  },
  "language_info": {
   "codemirror_mode": "java",
   "file_extension": ".jshell",
   "mimetype": "text/x-java-source",
   "name": "Java",
   "pygments_lexer": "java",
   "version": "11.0.16+8-post-Ubuntu-0ubuntu120.04"
  }
 },
 "nbformat": 4,
 "nbformat_minor": 5
}
